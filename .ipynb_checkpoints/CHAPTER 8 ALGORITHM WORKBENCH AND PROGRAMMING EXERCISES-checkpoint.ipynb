{
 "cells": [
  {
   "cell_type": "markdown",
   "id": "b910b9f4",
   "metadata": {},
   "source": [
    "# 2 - Algorithm Workbench \n",
    "Write a loop that counts the number of space characters that appear in the string referenced by mystring"
   ]
  },
  {
   "cell_type": "code",
   "execution_count": 1,
   "id": "dd2a1a66",
   "metadata": {},
   "outputs": [],
   "source": [
    "# Initialize a counter to keep track of spaces\n",
    "# Get string from the user\n",
    "# Iterate through each character in the string\n",
    "# Check if the current character is a space\n",
    "# Increment the counter\n",
    "# Display results\n",
    "# Call the main function"
   ]
  },
  {
   "cell_type": "code",
   "execution_count": 2,
   "id": "066b81a2",
   "metadata": {},
   "outputs": [
    {
     "name": "stdout",
     "output_type": "stream",
     "text": [
      "Enter a sentence: How many spaces will be in this sentence, I wonder?\n",
      "The number of spaces in the sentence provided is 9 times.\n"
     ]
    }
   ],
   "source": [
    "def main():\n",
    "    #Create a variable to use to hold the count - The variable must start with 0\n",
    "    count = 0\n",
    "    \n",
    "    # Get a string from the user\n",
    "    my_string = input('Enter a sentence: ')\n",
    "    \n",
    "    # Iterate through each chacter in the string\n",
    "    for char in my_string:\n",
    "    \n",
    "    # Check if character is a space\n",
    "        if char == ' ':\n",
    "    \n",
    "    # Increment the counter\n",
    "            count += 1\n",
    "        \n",
    "    # Print the result\n",
    "    print(f'The number of spaces in the sentence provided is {count} times.')\n",
    "\n",
    "# Call the main function\n",
    "if __name__ == '__main__':\n",
    "    main()"
   ]
  },
  {
   "cell_type": "markdown",
   "id": "0e4e2be6",
   "metadata": {},
   "source": [
    "# 4 - Algorithm Workbench\n",
    "Write a loop that counts the number of lowercase characters that appear in the string referenced by my_string"
   ]
  },
  {
   "cell_type": "code",
   "execution_count": 3,
   "id": "876e3f97",
   "metadata": {},
   "outputs": [],
   "source": [
    "# Initialize a counter to keep track of lowercase characters\n",
    "# Get string from the user\n",
    "# Iterate through each character in the string\n",
    "# Check if the current character is lowercase\n",
    "# Increment the counter\n",
    "# Display results\n",
    "# Call the main function"
   ]
  },
  {
   "cell_type": "code",
   "execution_count": 4,
   "id": "0e83801b",
   "metadata": {},
   "outputs": [
    {
     "name": "stdout",
     "output_type": "stream",
     "text": [
      "Enter a sentence: HOW many LOWERcase Letters IN this SENTANCE\n",
      "The amount of lowercase letters in this sentance is: 18\n"
     ]
    }
   ],
   "source": [
    "def main():\n",
    "    \n",
    "    #Create a variable to use to hold the count - The variable must start with 0\n",
    "    count = 0\n",
    "    \n",
    "    # Get a string from the user\n",
    "    my_string = input('Enter a sentence: ')\n",
    "    \n",
    "    # Count the lowercase characters\n",
    "    for char in my_string:\n",
    "        \n",
    "    # Check for lowercase\n",
    "        if char.islower():\n",
    "            \n",
    "    # increment the counter\n",
    "            count += 1\n",
    "    \n",
    "    # Display the results\n",
    "    print(f'The amount of lowercase letters in this sentance is: {count}')\n",
    "\n",
    "# Call the main function\n",
    "if __name__ == '__main__':\n",
    "    main()"
   ]
  },
  {
   "cell_type": "markdown",
   "id": "7048f4d5",
   "metadata": {},
   "source": [
    "# 1 - Programming Exercise - INITIALS\n",
    "Write a program that gets a string containing a person’s first, middle, and last names, and displays their first, middle, and last initials. For example, if the user enters John William Smith, the program should display J. W. S"
   ]
  },
  {
   "cell_type": "code",
   "execution_count": 5,
   "id": "3c72596b",
   "metadata": {},
   "outputs": [],
   "source": [
    "# This program will display the user's first, middle and last initial\n",
    "# Create String for names\n",
    "# Ask user to enter their first, middle and last names\n",
    "# Get Initials\n",
    "# Display the results\n",
    "# Call the main function"
   ]
  },
  {
   "cell_type": "code",
   "execution_count": 6,
   "id": "69a44afe",
   "metadata": {},
   "outputs": [
    {
     "name": "stdout",
     "output_type": "stream",
     "text": [
      "Please enter your first name: Joshua\n",
      "Please enter your middle name: Adam\n",
      "Please enter your last name: Yerian\n",
      "Your initials are: J. A. Y. \n"
     ]
    }
   ],
   "source": [
    "def main():\n",
    "    \n",
    "    # Create String for names\n",
    "    # Ask user to enter their first, middle and last names\n",
    "    \n",
    "    first_name = input('Please enter your first name: ')\n",
    "    middle_name = input('Please enter your middle name: ')\n",
    "    last_name = input('Please enter your last name: ')\n",
    "    \n",
    "    # Get initials\n",
    "    first_initial = first_name[0]\n",
    "    middle_initial = middle_name[0]\n",
    "    last_initial = last_name[0]\n",
    "    \n",
    "    # Display results\n",
    "    print('Your initials are: ' + first_initial + '. ' + middle_initial + '. ' + last_initial + '. ')\n",
    "    \n",
    "# Call the main function\n",
    "if __name__ == '__main__':\n",
    "    main()"
   ]
  },
  {
   "cell_type": "markdown",
   "id": "2c7dc875",
   "metadata": {},
   "source": [
    "# 2 - Programming Exercise - Sum of Digits in a string\n",
    "Write a program that asks the user to enter a series of single-digit numbers with nothing separating them. The program should display the sum of all the single digit numbers in the string. For example, if the user enters 2514, the method should return 12, which is the sum of 2, 5, 1, and 4"
   ]
  },
  {
   "cell_type": "code",
   "execution_count": 7,
   "id": "8c3c7cf6",
   "metadata": {},
   "outputs": [],
   "source": [
    "# Ask user to enter a series of single-digit numbers with no seperators\n",
    "# Initialize total to 0 to keep track of the sum of the digits\n",
    "# use isdigit and length of character to 1 - if meets conditions covert to integer\n",
    "# Display sum of single digits\n",
    "# Call the main function"
   ]
  },
  {
   "cell_type": "code",
   "execution_count": 14,
   "id": "20d39ae5",
   "metadata": {},
   "outputs": [
    {
     "ename": "SyntaxError",
     "evalue": "invalid syntax. Perhaps you forgot a comma? (1040910264.py, line 13)",
     "output_type": "error",
     "traceback": [
      "\u001b[1;36m  Cell \u001b[1;32mIn[14], line 13\u001b[1;36m\u001b[0m\n\u001b[1;33m    print('Sum of the single-digits entered is:' total)\u001b[0m\n\u001b[1;37m          ^\u001b[0m\n\u001b[1;31mSyntaxError\u001b[0m\u001b[1;31m:\u001b[0m invalid syntax. Perhaps you forgot a comma?\n"
     ]
    }
   ],
   "source": [
    "def main():\n",
    "    # Ask user to enter a series of single-digit numbers with no seperators\n",
    "    user_digits = input('Please enter a series of single-digit numbers with no seperator: ')\n",
    "    \n",
    "    # Initialize total to 0 to keep track of the sum of the digits\n",
    "    total = 0\n",
    "    \n",
    "    # use isdigit and length of character to 1 - if meets conditions covert to integer\n",
    "    for char in user_digits:\n",
    "        if char.isdigit() and len(char) == 1:\n",
    "            total += int(char)\n",
    "    # Display sum of single-digits entered by user\n",
    "    print('Sum of the single-digits entered is:' total)\n",
    "\n",
    "# Call the main function\n",
    "if __name__ == '__main__':\n",
    "    main()"
   ]
  },
  {
   "cell_type": "code",
   "execution_count": null,
   "id": "d63ab828",
   "metadata": {},
   "outputs": [],
   "source": []
  }
 ],
 "metadata": {
  "kernelspec": {
   "display_name": "Python 3 (ipykernel)",
   "language": "python",
   "name": "python3"
  },
  "language_info": {
   "codemirror_mode": {
    "name": "ipython",
    "version": 3
   },
   "file_extension": ".py",
   "mimetype": "text/x-python",
   "name": "python",
   "nbconvert_exporter": "python",
   "pygments_lexer": "ipython3",
   "version": "3.11.4"
  }
 },
 "nbformat": 4,
 "nbformat_minor": 5
}
