{
 "cells": [
  {
   "cell_type": "markdown",
   "id": "d2984c96",
   "metadata": {},
   "source": [
    "# 2 - Algorithm Workbench \n",
    "Write a loop that counts the number of space characters that appear in the string referenced by mystring"
   ]
  },
  {
   "cell_type": "code",
   "execution_count": 1,
   "id": "af5e4434",
   "metadata": {},
   "outputs": [],
   "source": [
    "# Initialize a counter to keep track of spaces\n",
    "# Get string from the user\n",
    "# Iterate through each character in the string\n",
    "# Check if the current character is a space\n",
    "# Increment the counter\n",
    "# Display results\n",
    "# Call the main function"
   ]
  },
  {
   "cell_type": "code",
   "execution_count": 2,
   "id": "12d9e4e4",
   "metadata": {},
   "outputs": [
    {
     "name": "stdout",
     "output_type": "stream",
     "text": [
      "Enter a sentence: How many spaces will be in this sentence, I wonder?\n",
      "The number of spaces in the sentence provided is 9 times.\n"
     ]
    }
   ],
   "source": [
    "def main():\n",
    "    #Create a variable to use to hold the count - The variable must start with 0\n",
    "    count = 0\n",
    "    \n",
    "    # Get a string from the user\n",
    "    my_string = input('Enter a sentence: ')\n",
    "    \n",
    "    # Iterate through each chacter in the string\n",
    "    for char in my_string:\n",
    "    \n",
    "    # Check if character is a space\n",
    "        if char == ' ':\n",
    "    \n",
    "    # Increment the counter\n",
    "            count += 1\n",
    "        \n",
    "    # Print the result\n",
    "    print(f'The number of spaces in the sentence provided is {count} times.')\n",
    "\n",
    "# Call the main function\n",
    "if __name__ == '__main__':\n",
    "    main()"
   ]
  },
  {
   "cell_type": "markdown",
   "id": "f7502580",
   "metadata": {},
   "source": [
    "# 4 - Algorithm Workbench\n",
    "Write a loop that counts the number of lowercase characters that appear in the string referenced by my_string"
   ]
  },
  {
   "cell_type": "code",
   "execution_count": 3,
   "id": "3cf9e988",
   "metadata": {},
   "outputs": [],
   "source": [
    "# Initialize a counter to keep track of lowercase characters\n",
    "# Get string from the user\n",
    "# Iterate through each character in the string\n",
    "# Check if the current character is lowercase\n",
    "# Increment the counter\n",
    "# Display results\n",
    "# Call the main function"
   ]
  },
  {
   "cell_type": "code",
   "execution_count": 4,
   "id": "7b28fe60",
   "metadata": {},
   "outputs": [
    {
     "name": "stdout",
     "output_type": "stream",
     "text": [
      "Enter a sentence: HOW many LOWERcase Letters IN this SENTANCE\n",
      "The amount of lowercase letters in this sentance is: 18\n"
     ]
    }
   ],
   "source": [
    "def main():\n",
    "    \n",
    "    #Create a variable to use to hold the count - The variable must start with 0\n",
    "    count = 0\n",
    "    \n",
    "    # Get a string from the user\n",
    "    my_string = input('Enter a sentence: ')\n",
    "    \n",
    "    # Count the lowercase characters\n",
    "    for char in my_string:\n",
    "        \n",
    "    # Check for lowercase\n",
    "        if char.islower():\n",
    "            \n",
    "    # increment the counter\n",
    "            count += 1\n",
    "    \n",
    "    # Display the results\n",
    "    print(f'The amount of lowercase letters in this sentance is: {count}')\n",
    "\n",
    "# Call the main function\n",
    "if __name__ == '__main__':\n",
    "    main()"
   ]
  },
  {
   "cell_type": "markdown",
   "id": "96068e95",
   "metadata": {},
   "source": [
    "# 1 - Programming Exercise - INITIALS\n",
    "Write a program that gets a string containing a person’s first, middle, and last names, and displays their first, middle, and last initials. For example, if the user enters John William Smith, the program should display J. W. S"
   ]
  },
  {
   "cell_type": "code",
   "execution_count": 5,
   "id": "7e4d801e",
   "metadata": {},
   "outputs": [],
   "source": [
    "# This program will display the user's first, middle and last initial\n",
    "# Create String for names\n",
    "# Ask user to enter their first, middle and last names\n",
    "# Get Initials\n",
    "# Display the results\n",
    "# Call the main function"
   ]
  },
  {
   "cell_type": "code",
   "execution_count": 8,
   "id": "0a23876e",
   "metadata": {},
   "outputs": [
    {
     "ename": "SyntaxError",
     "evalue": "invalid syntax. Perhaps you forgot a comma? (3212498461.py, line 16)",
     "output_type": "error",
     "traceback": [
      "\u001b[1;36m  Cell \u001b[1;32mIn[8], line 16\u001b[1;36m\u001b[0m\n\u001b[1;33m    print('Your initials are: ' first_intial + '. ' + middle_initial + '. ' + last_initial +'. ')\u001b[0m\n\u001b[1;37m          ^\u001b[0m\n\u001b[1;31mSyntaxError\u001b[0m\u001b[1;31m:\u001b[0m invalid syntax. Perhaps you forgot a comma?\n"
     ]
    }
   ],
   "source": [
    "def main():\n",
    "    \n",
    "    # Create String for names\n",
    "    # Ask user to enter their first, middle and last names\n",
    "    \n",
    "    first_name = input('Please enter your first name: ')\n",
    "    middle_name = input('Please enter your middle name: ')\n",
    "    last_name = input('Please enter your last name: ')\n",
    "    \n",
    "    # Get initials\n",
    "    first_intial = first_name[0]\n",
    "    middle_initial = middle_name[0]\n",
    "    last_initial = last_name[0]\n",
    "    \n",
    "    # Display results\n",
    "    print('Your initials are: ' first_intial + '. ' + middle_initial + '. ' + last_initial +'. ')"
   ]
  },
  {
   "cell_type": "code",
   "execution_count": null,
   "id": "601ed0d1",
   "metadata": {},
   "outputs": [],
   "source": []
  }
 ],
 "metadata": {
  "kernelspec": {
   "display_name": "Python 3 (ipykernel)",
   "language": "python",
   "name": "python3"
  },
  "language_info": {
   "codemirror_mode": {
    "name": "ipython",
    "version": 3
   },
   "file_extension": ".py",
   "mimetype": "text/x-python",
   "name": "python",
   "nbconvert_exporter": "python",
   "pygments_lexer": "ipython3",
   "version": "3.11.4"
  }
 },
 "nbformat": 4,
 "nbformat_minor": 5
}
