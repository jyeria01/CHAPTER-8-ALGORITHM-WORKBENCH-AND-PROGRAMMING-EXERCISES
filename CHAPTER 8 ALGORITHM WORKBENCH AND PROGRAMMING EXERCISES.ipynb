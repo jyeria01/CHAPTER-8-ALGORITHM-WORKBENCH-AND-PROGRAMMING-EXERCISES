{
 "cells": [
  {
   "cell_type": "markdown",
   "id": "47d85920",
   "metadata": {},
   "source": [
    "# 2 - Algorithm Workbench \n",
    "Write a loop that counts the number of space characters that appear in the string referenced by mystring"
   ]
  },
  {
   "cell_type": "code",
   "execution_count": 1,
   "id": "8d783af2",
   "metadata": {},
   "outputs": [],
   "source": [
    "# Initialize a counter to keep track of spaces\n",
    "# Get string from the user\n",
    "# Iterate through each character in the string\n",
    "# Check if the current character is a space\n",
    "# Increment the counter\n",
    "# Display results\n",
    "# Call the main function"
   ]
  },
  {
   "cell_type": "code",
   "execution_count": 2,
   "id": "a91a0c1e",
   "metadata": {},
   "outputs": [
    {
     "name": "stdout",
     "output_type": "stream",
     "text": [
      "Enter a sentence: How many spaces will be in this sentence, I wonder?\n",
      "The number of spaces in the sentence provided is 9 times.\n"
     ]
    }
   ],
   "source": [
    "def main():\n",
    "    #Create a variable to use to hold the count - The variable must start with 0\n",
    "    count = 0\n",
    "    \n",
    "    # Get a string from the user\n",
    "    my_string = input('Enter a sentence: ')\n",
    "    \n",
    "    # Iterate through each chacter in the string\n",
    "    for char in my_string:\n",
    "    \n",
    "    # Check if character is a space\n",
    "        if char == ' ':\n",
    "    \n",
    "    # Increment the counter\n",
    "            count += 1\n",
    "        \n",
    "    # Print the result\n",
    "    print(f'The number of spaces in the sentence provided is {count} times.')\n",
    "\n",
    "# Call the main function\n",
    "if __name__ == '__main__':\n",
    "    main()"
   ]
  },
  {
   "cell_type": "markdown",
   "id": "71247577",
   "metadata": {},
   "source": [
    "# 4 - Algorithm Workbench\n",
    "Write a loop that counts the number of lowercase characters that appear in the string referenced by my_string"
   ]
  },
  {
   "cell_type": "code",
   "execution_count": 3,
   "id": "6f1c9ea2",
   "metadata": {},
   "outputs": [],
   "source": [
    "# Initialize a counter to keep track of lowercase characters\n",
    "# Get string from the user\n",
    "# Iterate through each character in the string\n",
    "# Check if the current character is lowercase\n",
    "# Increment the counter\n",
    "# Display results\n",
    "# Call the main function"
   ]
  },
  {
   "cell_type": "code",
   "execution_count": 4,
   "id": "2d021a56",
   "metadata": {},
   "outputs": [
    {
     "name": "stdout",
     "output_type": "stream",
     "text": [
      "Enter a sentence: HOW many LOWERcase Letters IN this SENTANCE\n",
      "The amount of lowercase letters in this sentance is: 18\n"
     ]
    }
   ],
   "source": [
    "def main():\n",
    "    \n",
    "    #Create a variable to use to hold the count - The variable must start with 0\n",
    "    count = 0\n",
    "    \n",
    "    # Get a string from the user\n",
    "    my_string = input('Enter a sentence: ')\n",
    "    \n",
    "    # Count the lowercase characters\n",
    "    for char in my_string:\n",
    "        \n",
    "    # Check for lowercase\n",
    "        if char.islower():\n",
    "            \n",
    "    # increment the counter\n",
    "            count += 1\n",
    "    \n",
    "    # Display the results\n",
    "    print(f'The amount of lowercase letters in this sentance is: {count}')\n",
    "\n",
    "# Call the main function\n",
    "if __name__ == '__main__':\n",
    "    main()"
   ]
  },
  {
   "cell_type": "markdown",
   "id": "2f45b2d1",
   "metadata": {},
   "source": [
    "# 1 - Programming Exercise - INITIALS\n",
    "Write a program that gets a string containing a person’s first, middle, and last names, and displays their first, middle, and last initials. For example, if the user enters John William Smith, the program should display J. W. S"
   ]
  },
  {
   "cell_type": "code",
   "execution_count": 5,
   "id": "4d7215ca",
   "metadata": {},
   "outputs": [],
   "source": [
    "# This program will display the user's first, middle and last initial\n",
    "# Create String for names\n",
    "# Ask user to enter their first, middle and last names\n",
    "# Get Initials\n",
    "# Display the results\n",
    "# Call the main function"
   ]
  },
  {
   "cell_type": "code",
   "execution_count": 6,
   "id": "ce7a90fd",
   "metadata": {},
   "outputs": [
    {
     "name": "stdout",
     "output_type": "stream",
     "text": [
      "Please enter your first name: Joshua\n",
      "Please enter your middle name: Adam\n",
      "Please enter your last name: Yerian\n",
      "Your initials are: J. A. Y. \n"
     ]
    }
   ],
   "source": [
    "def main():\n",
    "    \n",
    "    # Create String for names\n",
    "    # Ask user to enter their first, middle and last names\n",
    "    \n",
    "    first_name = input('Please enter your first name: ')\n",
    "    middle_name = input('Please enter your middle name: ')\n",
    "    last_name = input('Please enter your last name: ')\n",
    "    \n",
    "    # Get initials\n",
    "    first_initial = first_name[0]\n",
    "    middle_initial = middle_name[0]\n",
    "    last_initial = last_name[0]\n",
    "    \n",
    "    # Display results\n",
    "    print('Your initials are: ' + first_initial + '. ' + middle_initial + '. ' + last_initial + '. ')\n",
    "    \n",
    "# Call the main function\n",
    "if __name__ == '__main__':\n",
    "    main()"
   ]
  },
  {
   "cell_type": "markdown",
   "id": "405f5add",
   "metadata": {},
   "source": [
    "# 2 - Programming Exercise - Sum of Digits in a string\n",
    "Write a program that asks the user to enter a series of single-digit numbers with nothing separating them. The program should display the sum of all the single digit numbers in the string. For example, if the user enters 2514, the method should return 12, which is the sum of 2, 5, 1, and 4"
   ]
  },
  {
   "cell_type": "code",
   "execution_count": 7,
   "id": "ec2ca7d0",
   "metadata": {},
   "outputs": [],
   "source": [
    "# Ask user to enter a series of single-digit numbers with no seperators\n",
    "# Initialize total to 0 to keep track of the sum of the digits\n",
    "# use isdigit and length of character to 1 - if meets conditions covert to integer\n",
    "# Display sum of single digits\n",
    "# Call the main function"
   ]
  },
  {
   "cell_type": "code",
   "execution_count": 8,
   "id": "61ba72af",
   "metadata": {},
   "outputs": [
    {
     "name": "stdout",
     "output_type": "stream",
     "text": [
      "Please enter a series of single-digit numbers with no seperator: 4271983\n",
      "Sum of the single-digits entered is: 34\n"
     ]
    }
   ],
   "source": [
    "def main():\n",
    "    # Ask user to enter a series of single-digit numbers with no seperators\n",
    "    user_digits = input('Please enter a series of single-digit numbers with no seperator: ')\n",
    "    \n",
    "    # Initialize total to 0 to keep track of the sum of the digits\n",
    "    total = 0\n",
    "    \n",
    "    # use isdigit and length of character to 1 - if meets conditions covert to integer\n",
    "    for char in user_digits:\n",
    "        if char.isdigit() and len(char) == 1:\n",
    "            total += int(char)\n",
    "    # Display sum of single-digits entered by user\n",
    "    print('Sum of the single-digits entered is:', total)\n",
    "\n",
    "# Call the main function\n",
    "if __name__ == '__main__':\n",
    "    main()"
   ]
  },
  {
   "cell_type": "markdown",
   "id": "268dda8c",
   "metadata": {},
   "source": [
    "# 10 - Programming Exercise - Most Frequent character\n",
    "Write a program that lets the user enter a string and displays the character that appears most frequently in the string."
   ]
  },
  {
   "cell_type": "code",
   "execution_count": 2,
   "id": "915fe9c9",
   "metadata": {},
   "outputs": [],
   "source": [
    "# User input a string\n",
    "# Store character frequencies\n",
    "# Iterate through the string characters and count occurrences\n",
    "# Add character and keep count\n",
    "# user count max to find character with highest frequency\n",
    "# Display results\n",
    "# Call the main function"
   ]
  },
  {
   "cell_type": "code",
   "execution_count": 21,
   "id": "0b207253",
   "metadata": {},
   "outputs": [
    {
     "name": "stdout",
     "output_type": "stream",
     "text": [
      "Type Anything - Provide a sentence: What will be the most common character in this sentence\n",
      "The most frequent character is 't' with 6 occurrences.\n"
     ]
    }
   ],
   "source": [
    "def main():\n",
    "    # user input a string - type anything\n",
    "    user_input = input('Type Anything - Provide a sentence: ')\n",
    "    \n",
    "    # Store Character frequency\n",
    "    char_frequency = {}\n",
    "    \n",
    "    # iterate through the string characters and count occurrences\n",
    "    for char in user_input:\n",
    "        if char.isalpha():\n",
    "            \n",
    "    # Convert characters to lowercase       \n",
    "            char = char.lower()\n",
    "    \n",
    "    # Add character to keep count\n",
    "            if char in char_frequency:\n",
    "                char_frequency[char] += 1\n",
    "            else:\n",
    "                char_frequency[char] = 1\n",
    "    \n",
    "    # user count max to find character with highest frequency\n",
    "    most_char = max(char_frequency, key=char_frequency.get)\n",
    "    \n",
    "    # Display results\n",
    "    print(f\"The most frequent character is '{most_char}' with {char_frequency[most_char]} occurrences.\")\n",
    "    \n",
    "# Call the main function\n",
    "if __name__ == '__main__':\n",
    "    main()"
   ]
  },
  {
   "cell_type": "markdown",
   "id": "dda1d228",
   "metadata": {},
   "source": [
    "# 3 - Programming Exercise - Date Printer\n",
    "Write a program that reads a string from the user containing a date in the form mm/dd/yyyy. It should print the date in the format March 12, 2018."
   ]
  },
  {
   "cell_type": "code",
   "execution_count": 22,
   "id": "4dfa2a0c",
   "metadata": {},
   "outputs": [],
   "source": [
    "# Ask user to enter date in the format mm/dd/yyyy\n",
    "# Split the date string into month, day, and year\n",
    "# Create months to store\n",
    "# Create a new date string in the \"Month day, year\" format\n",
    "# Display result\n",
    "# Call the main function"
   ]
  },
  {
   "cell_type": "code",
   "execution_count": 31,
   "id": "23216ab1",
   "metadata": {},
   "outputs": [
    {
     "name": "stdout",
     "output_type": "stream",
     "text": [
      "Please enter a date in the format mm/dd/yyyy04/27/1983\n",
      "The date you entered is:April27, 1983\n"
     ]
    }
   ],
   "source": [
    "def main():\n",
    "    # Ask user to enter date in the format mm/dd/yyyy\n",
    "    enter_date = input('Please enter a date in the format mm/dd/yyyy')\n",
    "    \n",
    "    # Split the date string into month, day, and year\n",
    "    date_part_list = enter_date.split('/')\n",
    "    \n",
    "    # Create months to store\n",
    "    # Create a new date string in the \"Month day, year\" format\n",
    "    month_list = {1: 'January', 2: 'February', 3: 'March', 4: 'April', 5: 'May', 6: 'June', 7: 'July', 8: 'August',\n",
    "        9: 'September', 10: 'October', 11: 'November', 12: 'December'}\n",
    "    \n",
    "    # Display Results\n",
    "    print('The date you entered is:' + month_list[int(date_part_list[0])] + '' + date_part_list[1] +', ' + date_part_list[2])\n",
    "\n",
    "# Call the main function\n",
    "if __name__ == '__main__':\n",
    "    main()"
   ]
  },
  {
   "cell_type": "code",
   "execution_count": null,
   "id": "fd9cc89f",
   "metadata": {},
   "outputs": [],
   "source": []
  }
 ],
 "metadata": {
  "kernelspec": {
   "display_name": "Python 3 (ipykernel)",
   "language": "python",
   "name": "python3"
  },
  "language_info": {
   "codemirror_mode": {
    "name": "ipython",
    "version": 3
   },
   "file_extension": ".py",
   "mimetype": "text/x-python",
   "name": "python",
   "nbconvert_exporter": "python",
   "pygments_lexer": "ipython3",
   "version": "3.11.4"
  }
 },
 "nbformat": 4,
 "nbformat_minor": 5
}
