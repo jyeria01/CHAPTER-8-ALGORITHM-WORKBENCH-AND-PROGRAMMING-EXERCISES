{
 "cells": [
  {
   "cell_type": "markdown",
   "id": "493b4afe",
   "metadata": {},
   "source": [
    "# 2 - Algorithm Workbench \n",
    "Write a loop that counts the number of space characters that appear in the string referenced by mystring"
   ]
  },
  {
   "cell_type": "code",
   "execution_count": 1,
   "id": "2adc12fa",
   "metadata": {},
   "outputs": [],
   "source": [
    "# Initialize a counter to keep track of spaces\n",
    "# Get string from the user\n",
    "# Iterate through each character in the string\n",
    "# Check if the current character is a space\n",
    "# Increment the counter\n",
    "# Display results\n",
    "# Call the main function"
   ]
  },
  {
   "cell_type": "code",
   "execution_count": 3,
   "id": "a3070afe",
   "metadata": {},
   "outputs": [
    {
     "ename": "SyntaxError",
     "evalue": "expected ':' (4227767233.py, line 12)",
     "output_type": "error",
     "traceback": [
      "\u001b[1;36m  Cell \u001b[1;32mIn[3], line 12\u001b[1;36m\u001b[0m\n\u001b[1;33m    if char == ''\u001b[0m\n\u001b[1;37m                 ^\u001b[0m\n\u001b[1;31mSyntaxError\u001b[0m\u001b[1;31m:\u001b[0m expected ':'\n"
     ]
    }
   ],
   "source": [
    "def main():\n",
    "    #Create a variable to use to hold the count - The variable must start with 0\n",
    "    count = 0\n",
    "    \n",
    "    # Get a string from the user\n",
    "    my_string = input('Enter a sentence: ')\n",
    "    \n",
    "    # Iterate through each chacter in the string\n",
    "    for ch in my_string:\n",
    "    \n",
    "    # Check if character is a space\n",
    "        if char == ''\n",
    "            count += 1"
   ]
  },
  {
   "cell_type": "code",
   "execution_count": null,
   "id": "132498e8",
   "metadata": {},
   "outputs": [],
   "source": []
  }
 ],
 "metadata": {
  "kernelspec": {
   "display_name": "Python 3 (ipykernel)",
   "language": "python",
   "name": "python3"
  },
  "language_info": {
   "codemirror_mode": {
    "name": "ipython",
    "version": 3
   },
   "file_extension": ".py",
   "mimetype": "text/x-python",
   "name": "python",
   "nbconvert_exporter": "python",
   "pygments_lexer": "ipython3",
   "version": "3.11.4"
  }
 },
 "nbformat": 4,
 "nbformat_minor": 5
}
