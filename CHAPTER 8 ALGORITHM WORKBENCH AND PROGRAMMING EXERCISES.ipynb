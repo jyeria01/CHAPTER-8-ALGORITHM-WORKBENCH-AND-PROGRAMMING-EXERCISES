{
 "cells": [
  {
   "cell_type": "markdown",
   "id": "90cc6dd3",
   "metadata": {},
   "source": [
    "# 2 - Algorithm Workbench \n",
    "Write a loop that counts the number of space characters that appear in the string referenced by mystring"
   ]
  },
  {
   "cell_type": "code",
   "execution_count": 1,
   "id": "f9daa85f",
   "metadata": {},
   "outputs": [],
   "source": [
    "# Initialize a counter to keep track of spaces\n",
    "# Get string from the user\n",
    "# Iterate through each character in the string\n",
    "# Check if the current character is a space\n",
    "# Increment the counter\n",
    "# Display results\n",
    "# Call the main function"
   ]
  },
  {
   "cell_type": "code",
   "execution_count": 2,
   "id": "5b6e85ff",
   "metadata": {},
   "outputs": [
    {
     "name": "stdout",
     "output_type": "stream",
     "text": [
      "Enter a sentence: How many spaces will be in this sentence, I wonder?\n",
      "The number of spaces in the sentence provided is 9 times.\n"
     ]
    }
   ],
   "source": [
    "def main():\n",
    "    #Create a variable to use to hold the count - The variable must start with 0\n",
    "    count = 0\n",
    "    \n",
    "    # Get a string from the user\n",
    "    my_string = input('Enter a sentence: ')\n",
    "    \n",
    "    # Iterate through each chacter in the string\n",
    "    for char in my_string:\n",
    "    \n",
    "    # Check if character is a space\n",
    "        if char == ' ':\n",
    "    \n",
    "    # Increment the counter\n",
    "            count += 1\n",
    "        \n",
    "    # Print the result\n",
    "    print(f'The number of spaces in the sentence provided is {count} times.')\n",
    "\n",
    "# Call the main function\n",
    "if __name__ == '__main__':\n",
    "    main()"
   ]
  },
  {
   "cell_type": "markdown",
   "id": "83f5fda9",
   "metadata": {},
   "source": [
    "# 4 - Algorithm Workbench\n",
    "Write a loop that counts the number of lowercase characters that appear in the string referenced by my_string"
   ]
  },
  {
   "cell_type": "code",
   "execution_count": 3,
   "id": "19fc0398",
   "metadata": {},
   "outputs": [],
   "source": [
    "# Initialize a counter to keep track of lowercase characters\n",
    "# Get string from the user\n",
    "# Iterate through each character in the string\n",
    "# Check if the current character is lowercase\n",
    "# Increment the counter\n",
    "# Display results\n",
    "# Call the main function"
   ]
  },
  {
   "cell_type": "code",
   "execution_count": 4,
   "id": "b66dc52b",
   "metadata": {},
   "outputs": [
    {
     "name": "stdout",
     "output_type": "stream",
     "text": [
      "Enter a sentence: HOW many LOWERcase Letters IN this SENTANCE\n",
      "The amount of lowercase letters in this sentance is: 18\n"
     ]
    }
   ],
   "source": [
    "def main():\n",
    "    \n",
    "    #Create a variable to use to hold the count - The variable must start with 0\n",
    "    count = 0\n",
    "    \n",
    "    # Get a string from the user\n",
    "    my_string = input('Enter a sentence: ')\n",
    "    \n",
    "    # Count the lowercase characters\n",
    "    for char in my_string:\n",
    "        \n",
    "    # Check for lowercase\n",
    "        if char.islower():\n",
    "            \n",
    "    # increment the counter\n",
    "            count += 1\n",
    "    \n",
    "    # Display the results\n",
    "    print(f'The amount of lowercase letters in this sentance is: {count}')\n",
    "\n",
    "# Call the main function\n",
    "if __name__ == '__main__':\n",
    "    main()"
   ]
  },
  {
   "cell_type": "code",
   "execution_count": null,
   "id": "a31fcebb",
   "metadata": {},
   "outputs": [],
   "source": []
  }
 ],
 "metadata": {
  "kernelspec": {
   "display_name": "Python 3 (ipykernel)",
   "language": "python",
   "name": "python3"
  },
  "language_info": {
   "codemirror_mode": {
    "name": "ipython",
    "version": 3
   },
   "file_extension": ".py",
   "mimetype": "text/x-python",
   "name": "python",
   "nbconvert_exporter": "python",
   "pygments_lexer": "ipython3",
   "version": "3.11.4"
  }
 },
 "nbformat": 4,
 "nbformat_minor": 5
}
